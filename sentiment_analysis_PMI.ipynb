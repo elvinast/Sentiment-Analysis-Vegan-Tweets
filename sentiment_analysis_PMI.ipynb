{
 "cells": [
  {
   "cell_type": "code",
   "execution_count": 344,
   "metadata": {},
   "outputs": [],
   "source": [
    "import io\n",
    "import json\n",
    "import unicodedata\n",
    "import sys\n",
    "import operator\n",
    "import string\n",
    "import math\n",
    "import re\n",
    "import time\n",
    "from collections import defaultdict\n",
    "from collections import Counter\n",
    "import pandas as pd\n",
    "# from PIL import Image"
   ]
  },
  {
   "cell_type": "code",
   "execution_count": 345,
   "metadata": {},
   "outputs": [],
   "source": [
    "from wordcloud import WordCloud, STOPWORDS"
   ]
  },
  {
   "cell_type": "markdown",
   "metadata": {},
   "source": [
    "# Load Training Dataset"
   ]
  },
  {
   "cell_type": "code",
   "execution_count": 346,
   "metadata": {},
   "outputs": [],
   "source": [
    "data = pd.read_csv(\"twitter_vegan_sent_dataset.csv\",encoding='latin1', usecols = ['twit', 'sent'])"
   ]
  },
  {
   "cell_type": "code",
   "execution_count": 347,
   "metadata": {
    "tags": []
   },
   "outputs": [
    {
     "data": {
      "text/html": [
       "<div>\n",
       "<style scoped>\n",
       "    .dataframe tbody tr th:only-of-type {\n",
       "        vertical-align: middle;\n",
       "    }\n",
       "\n",
       "    .dataframe tbody tr th {\n",
       "        vertical-align: top;\n",
       "    }\n",
       "\n",
       "    .dataframe thead th {\n",
       "        text-align: right;\n",
       "    }\n",
       "</style>\n",
       "<table border=\"1\" class=\"dataframe\">\n",
       "  <thead>\n",
       "    <tr style=\"text-align: right;\">\n",
       "      <th></th>\n",
       "      <th>sent</th>\n",
       "      <th>twit</th>\n",
       "    </tr>\n",
       "  </thead>\n",
       "  <tbody>\n",
       "    <tr>\n",
       "      <th>0</th>\n",
       "      <td>0</td>\n",
       "      <td>Creepy Outdoor on the speedway: Alli is now in...</td>\n",
       "    </tr>\n",
       "    <tr>\n",
       "      <th>1</th>\n",
       "      <td>0</td>\n",
       "      <td>The nowhere land - not 100% sick, but definate...</td>\n",
       "    </tr>\n",
       "    <tr>\n",
       "      <th>2</th>\n",
       "      <td>0</td>\n",
       "      <td>@Seamonkey86 I am on a healthy eating kick! I ...</td>\n",
       "    </tr>\n",
       "    <tr>\n",
       "      <th>3</th>\n",
       "      <td>0</td>\n",
       "      <td>goood morning sheffield, who the fuck text me ...</td>\n",
       "    </tr>\n",
       "    <tr>\n",
       "      <th>4</th>\n",
       "      <td>0</td>\n",
       "      <td>Workin the election, driving round checking on...</td>\n",
       "    </tr>\n",
       "  </tbody>\n",
       "</table>\n",
       "</div>"
      ],
      "text/plain": [
       "   sent                                               twit\n",
       "0     0  Creepy Outdoor on the speedway: Alli is now in...\n",
       "1     0  The nowhere land - not 100% sick, but definate...\n",
       "2     0  @Seamonkey86 I am on a healthy eating kick! I ...\n",
       "3     0  goood morning sheffield, who the fuck text me ...\n",
       "4     0  Workin the election, driving round checking on..."
      ]
     },
     "execution_count": 347,
     "metadata": {},
     "output_type": "execute_result"
    }
   ],
   "source": [
    "data.head()"
   ]
  },
  {
   "cell_type": "markdown",
   "metadata": {},
   "source": [
    "# Preprocessing tweets"
   ]
  },
  {
   "cell_type": "code",
   "execution_count": 348,
   "metadata": {},
   "outputs": [],
   "source": [
    "data['twit'] = [re.sub('@[^\\s]+', '', x) for x in data['twit']]\n",
    "data.head()\n",
    "df_clean = data\n",
    "from nltk.tokenize import RegexpTokenizer\n",
    "\n",
    "tokenizer = RegexpTokenizer(r'\\w+')\n",
    "df_clean['clean'] = df_clean['twit'].astype('str') \n",
    "df_clean.dtypes\n",
    "\n",
    "df_clean[\"tokens\"] = df_clean[\"clean\"].apply(tokenizer.tokenize)"
   ]
  },
  {
   "cell_type": "code",
   "execution_count": 312,
   "metadata": {},
   "outputs": [
    {
     "data": {
      "text/html": [
       "<div>\n",
       "<style scoped>\n",
       "    .dataframe tbody tr th:only-of-type {\n",
       "        vertical-align: middle;\n",
       "    }\n",
       "\n",
       "    .dataframe tbody tr th {\n",
       "        vertical-align: top;\n",
       "    }\n",
       "\n",
       "    .dataframe thead th {\n",
       "        text-align: right;\n",
       "    }\n",
       "</style>\n",
       "<table border=\"1\" class=\"dataframe\">\n",
       "  <thead>\n",
       "    <tr style=\"text-align: right;\">\n",
       "      <th></th>\n",
       "      <th>sent</th>\n",
       "      <th>twit</th>\n",
       "      <th>clean</th>\n",
       "      <th>tokens</th>\n",
       "    </tr>\n",
       "  </thead>\n",
       "  <tbody>\n",
       "    <tr>\n",
       "      <th>0</th>\n",
       "      <td>0</td>\n",
       "      <td>Creepy Outdoor on the speedway: Alli is now in...</td>\n",
       "      <td>Creepy Outdoor on the speedway: Alli is now in...</td>\n",
       "      <td>[Creepy, Outdoor, on, the, speedway, Alli, is,...</td>\n",
       "    </tr>\n",
       "    <tr>\n",
       "      <th>1</th>\n",
       "      <td>0</td>\n",
       "      <td>The nowhere land - not 100% sick, but definate...</td>\n",
       "      <td>The nowhere land - not 100% sick, but definate...</td>\n",
       "      <td>[The, nowhere, land, not, 100, sick, but, defi...</td>\n",
       "    </tr>\n",
       "    <tr>\n",
       "      <th>2</th>\n",
       "      <td>0</td>\n",
       "      <td>I am on a healthy eating kick! I could only h...</td>\n",
       "      <td>I am on a healthy eating kick! I could only h...</td>\n",
       "      <td>[I, am, on, a, healthy, eating, kick, I, could...</td>\n",
       "    </tr>\n",
       "    <tr>\n",
       "      <th>3</th>\n",
       "      <td>0</td>\n",
       "      <td>goood morning sheffield, who the fuck text me ...</td>\n",
       "      <td>goood morning sheffield, who the fuck text me ...</td>\n",
       "      <td>[goood, morning, sheffield, who, the, fuck, te...</td>\n",
       "    </tr>\n",
       "    <tr>\n",
       "      <th>4</th>\n",
       "      <td>0</td>\n",
       "      <td>Workin the election, driving round checking on...</td>\n",
       "      <td>Workin the election, driving round checking on...</td>\n",
       "      <td>[Workin, the, election, driving, round, checki...</td>\n",
       "    </tr>\n",
       "  </tbody>\n",
       "</table>\n",
       "</div>"
      ],
      "text/plain": [
       "   sent                                               twit  \\\n",
       "0     0  Creepy Outdoor on the speedway: Alli is now in...   \n",
       "1     0  The nowhere land - not 100% sick, but definate...   \n",
       "2     0   I am on a healthy eating kick! I could only h...   \n",
       "3     0  goood morning sheffield, who the fuck text me ...   \n",
       "4     0  Workin the election, driving round checking on...   \n",
       "\n",
       "                                               clean  \\\n",
       "0  Creepy Outdoor on the speedway: Alli is now in...   \n",
       "1  The nowhere land - not 100% sick, but definate...   \n",
       "2   I am on a healthy eating kick! I could only h...   \n",
       "3  goood morning sheffield, who the fuck text me ...   \n",
       "4  Workin the election, driving round checking on...   \n",
       "\n",
       "                                              tokens  \n",
       "0  [Creepy, Outdoor, on, the, speedway, Alli, is,...  \n",
       "1  [The, nowhere, land, not, 100, sick, but, defi...  \n",
       "2  [I, am, on, a, healthy, eating, kick, I, could...  \n",
       "3  [goood, morning, sheffield, who, the, fuck, te...  \n",
       "4  [Workin, the, election, driving, round, checki...  "
      ]
     },
     "execution_count": 312,
     "metadata": {},
     "output_type": "execute_result"
    }
   ],
   "source": [
    "df_clean.head()"
   ]
  },
  {
   "cell_type": "code",
   "execution_count": 349,
   "metadata": {},
   "outputs": [],
   "source": [
    "\n",
    "stop_words = open(\"stopwords.txt\").read().split()"
   ]
  },
  {
   "cell_type": "code",
   "execution_count": 350,
   "metadata": {},
   "outputs": [],
   "source": [
    "slang = {\n",
    "\"aint\": \"is not\",\n",
    "\"arent\": \"are not\",\n",
    "\"cant\": \"cannot\",\n",
    "\"cantve\": \"cannot have\",\n",
    "\"cause\": \"because\",\n",
    "\"couldve\": \"could have\",\n",
    "\"couldnt\": \"could not\",\n",
    "\"couldntve\": \"could not have\",\n",
    "\"didnt\": \"did not\",\n",
    "\"doesnt\": \"does not\",\n",
    "\"dont\": \"do not\",\n",
    "\"hadnt\": \"had not\",\n",
    "\"hadntve\": \"had not have\",\n",
    "\"hasnt\": \"has not\",\n",
    "\"havent\": \"have not\",\n",
    "\"hed\": \"he would\",\n",
    "\"hedve\": \"he would have\",\n",
    "\"hell\": \"he will\",\n",
    "\"hellve\": \"he he will have\",\n",
    "\"hes\": \"he is\",\n",
    "\"howd\": \"how did\",\n",
    "\"howdy\": \"how do you\",\n",
    "\"howll\": \"how will\",\n",
    "\"hows\": \"how is\",\n",
    "\"Id\": \"I would\",\n",
    "\"Idve\": \"I would have\",\n",
    "\"Ill\": \"I will\",\n",
    "\"Illve\": \"I will have\",\n",
    "\"Im\": \"I am\",\n",
    "\"Ive\": \"I have\",\n",
    "\"id\": \"i would\",\n",
    "\"idve\": \"i would have\",\n",
    "\"ill\": \"i will\",\n",
    "\"illve\": \"i will have\",\n",
    "\"im\": \"i am\",\n",
    "\"ive\": \"i have\",\n",
    "\"isnt\": \"is not\",\n",
    "\"itd\": \"it would\",\n",
    "\"itdve\": \"it would have\",\n",
    "\"itll\": \"it will\",\n",
    "\"itllve\": \"it will have\",\n",
    "\"its\": \"it is\",\n",
    "\"lets\": \"let us\",\n",
    "\"maam\": \"madam\",\n",
    "\"maynt\": \"may not\",\n",
    "\"mightve\": \"might have\",\n",
    "\"mightnt\": \"might not\",\n",
    "\"mightntve\": \"might not have\",\n",
    "\"mustve\": \"must have\",\n",
    "\"mustnt\": \"must not\",\n",
    "\"mustntve\": \"must not have\",\n",
    "\"neednt\": \"need not\",\n",
    "\"needntve\": \"need not have\",\n",
    "\"oclock\": \"of the clock\",\n",
    "\"oughtnt\": \"ought not\",\n",
    "\"oughtntve\": \"ought not have\",\n",
    "\"shant\": \"shall not\",\n",
    "\"shant\": \"shall not\",\n",
    "\"shantve\": \"shall not have\",\n",
    "\"shed\": \"she would\",\n",
    "\"shedve\": \"she would have\",\n",
    "\"shellve\": \"she will have\",\n",
    "\"shes\": \"she is\",\n",
    "\"shouldve\": \"should have\",\n",
    "\"shouldnt\": \"should not\",\n",
    "\"shouldntve\": \"should not have\",\n",
    "\"sove\": \"so have\",\n",
    "\"thatd\": \"that would\",\n",
    "\"thatdve\": \"that would have\",\n",
    "\"thats\": \"that is\",\n",
    "\"thered\": \"there would\",\n",
    "\"theredve\": \"there would have\",\n",
    "\"theres\": \"there is\",\n",
    "\"theyd\": \"they would\",\n",
    "\"theydve\": \"they would have\",\n",
    "\"theyll\": \"they will\",\n",
    "\"theyllve\": \"they will have\",\n",
    "\"theyre\": \"they are\",\n",
    "\"theyve\": \"they have\",\n",
    "\"tove\": \"to have\",\n",
    "\"wasnt\": \"was not\",\n",
    "\"wed\": \"we would\",\n",
    "\"wedve\": \"we would have\",\n",
    "\"wellve\": \"we will have\",\n",
    "\"weve\": \"we have\",\n",
    "\"werent\": \"were not\",\n",
    "\"whatll\": \"what will\",\n",
    "\"whatllve\": \"what will have\",\n",
    "\"whatre\": \"what are\",\n",
    "\"whats\": \"what is\",\n",
    "\"whatve\": \"what have\",\n",
    "\"whens\": \"when is\",\n",
    "\"whenve\": \"when have\",\n",
    "\"whered\": \"where did\",\n",
    "\"wheres\": \"where is\",\n",
    "\"whereve\": \"where have\",\n",
    "\"wholl\": \"who will\",\n",
    "\"whollve\": \"who will have\",\n",
    "\"whos\": \"who is\",\n",
    "\"whove\": \"who have\",\n",
    "\"whys\": \"why is\",\n",
    "\"whyve\": \"why have\",\n",
    "\"willve\": \"will have\",\n",
    "\"wont\": \"will not\",\n",
    "\"wontve\": \"will not have\",\n",
    "\"wouldve\": \"would have\",\n",
    "\"wouldnt\": \"would not\",\n",
    "\"wouldntve\": \"would not have\",\n",
    "\"yall\": \"you all\",\n",
    "\"yalld\": \"you all would\",\n",
    "\"yalldve\": \"you all would have\",\n",
    "\"yallre\": \"you all are\",\n",
    "\"yallve\": \"you all have\",\n",
    "\"youd\": \"you would\",\n",
    "\"youdve\": \"you would have\",\n",
    "\"youll\": \"you will\",\n",
    "\"youllve\": \"you will have\",\n",
    "\"youre\": \"you are\",\n",
    "\"youve\": \"you have\",\n",
    "\"ppl\": \"people\",\n",
    "\"r\": \"are\"\n",
    "}"
   ]
  },
  {
   "cell_type": "code",
   "execution_count": 351,
   "metadata": {},
   "outputs": [],
   "source": [
    "for i in range(len(df_clean['tokens'])):\n",
    "    for j in range(len(df_clean['tokens'][i])):\n",
    "        df_clean['tokens'][i][j] = df_clean['tokens'][i][j].lower()\n",
    "        if df_clean['tokens'][i][j] in slang:\n",
    "            df_clean['tokens'][i][j] = slang[df_clean['tokens'][i][j]]"
   ]
  },
  {
   "cell_type": "code",
   "execution_count": 352,
   "metadata": {},
   "outputs": [
    {
     "data": {
      "text/plain": [
       "0       [creepy, outdoor, on, the, speedway, alli, is,...\n",
       "1       [the, nowhere, land, not, 100, sick, but, defi...\n",
       "2       [i, am, on, a, healthy, eating, kick, i, could...\n",
       "3       [goood, morning, sheffield, who, the, fuck, te...\n",
       "4       [workin, the, election, driving, round, checki...\n",
       "                              ...                        \n",
       "1871    [eat, only, vegetables, and, fruit, you, ll, b...\n",
       "1872    [has, shiny, healthy, teeth, i, love, dentist,...\n",
       "1873      [cool, i, m, looking, forward, to, reading, it]\n",
       "1874    [ara, sã, â, que, ets, tot, un, quot, pirata, ...\n",
       "1875    [turns, out, the, people, in, aspen, are, tote...\n",
       "Name: tokens, Length: 1876, dtype: object"
      ]
     },
     "execution_count": 352,
     "metadata": {},
     "output_type": "execute_result"
    }
   ],
   "source": [
    "df_clean['tokens']"
   ]
  },
  {
   "cell_type": "code",
   "execution_count": 353,
   "metadata": {},
   "outputs": [],
   "source": [
    "import re\n",
    "for i in df_clean[\"tokens\"]:\n",
    "    for j in list(i):\n",
    "        if j in stop_words or len(j)<=2 or re.search(r'\\d', j):\n",
    "            i.remove(j)"
   ]
  },
  {
   "cell_type": "code",
   "execution_count": 285,
   "metadata": {},
   "outputs": [
    {
     "data": {
      "text/plain": [
       "0       [creepy, outdoor, speedway, alli, portugal, se...\n",
       "1       [nowhere, land, sick, definately, healthy, eit...\n",
       "2          [healthy, eating, kick, could, shetland, pony]\n",
       "3       [goood, morning, sheffield, fuck, text, mornin...\n",
       "4       [workin, election, driving, round, checking, j...\n",
       "                              ...                        \n",
       "1871    [eat, vegetables, fruit, healthy, skinny, brea...\n",
       "1872    [shiny, healthy, teeth, love, dentist, appoint...\n",
       "1873                    [cool, looking, forward, reading]\n",
       "1874    [ara, que, ets, tot, quot, pirata, quot, thepi...\n",
       "1875    [turns, people, aspen, totes, know, veganism, ...\n",
       "Name: tokens, Length: 1876, dtype: object"
      ]
     },
     "execution_count": 285,
     "metadata": {},
     "output_type": "execute_result"
    }
   ],
   "source": [
    "df_clean[\"tokens\"]"
   ]
  },
  {
   "cell_type": "markdown",
   "metadata": {},
   "source": [
    "# PMI"
   ]
  },
  {
   "cell_type": "code",
   "execution_count": null,
   "metadata": {},
   "outputs": [],
   "source": [
    "pmi, word_freq = build_pmi(df_clean[\"tokens\"])"
   ]
  },
  {
   "cell_type": "code",
   "execution_count": 354,
   "metadata": {},
   "outputs": [],
   "source": [
    "def build_frequencies(tweets):\n",
    "    word_freq = {}\n",
    "    for tweet in tweets:\n",
    "        for i in range(len(tweet)):\n",
    "            if (tweet[i] in word_freq):\n",
    "                word_freq[tweet[i]] += 1\n",
    "            else:\n",
    "                word_freq[tweet[i]] = 1\n",
    "    word_mtr = defaultdict(lambda : defaultdict(int))\n",
    "\n",
    "    for tweet in tweets:\n",
    "        for i in range(len(tweet)):\n",
    "            for j in range(i):\n",
    "                w1, w2 = sorted((tweet[i], tweet[j]))\n",
    "                if w1 != w2:\n",
    "                    word_mtr[w1][w2] += 1\n",
    "    return (word_freq, word_mtr)"
   ]
  },
  {
   "cell_type": "code",
   "execution_count": 355,
   "metadata": {},
   "outputs": [],
   "source": [
    "def build_probabilities(single_freq, mutual_freq, num_tweets):\n",
    "    p_word = {}\n",
    "    p_mutual = defaultdict(lambda : defaultdict(int))\n",
    "    for term1, n in single_freq.items():\n",
    "        p_word[term1] = n / num_tweets\n",
    "        for term2 in mutual_freq[term1]:\n",
    "            p_mutual[term1][term2] = mutual_freq[term1][term2] / num_tweets\n",
    "    return (p_word, p_mutual)"
   ]
  },
  {
   "cell_type": "code",
   "execution_count": 356,
   "metadata": {},
   "outputs": [],
   "source": [
    "def build_pmi(tweets):\n",
    "    word_freq, word_mtr = build_frequencies(tweets)\n",
    "    p_word, p_mutual = build_probabilities(word_freq, word_mtr, len(tweets))\n",
    "    pmi = defaultdict(lambda : defaultdict(int))\n",
    "    \n",
    "    for term1 in p_word:\n",
    "        for term2 in word_mtr[term1]:\n",
    "            denom = p_word[term1] * p_word[term2]\n",
    "            if (denom < 1e-9):\n",
    "                pmi[term1][term2] = 0.0\n",
    "            else:\n",
    "                pmi[term1][term2] = math.log2(p_mutual[term1][term2] / denom)\n",
    "    return pmi, word_freq"
   ]
  },
  {
   "cell_type": "code",
   "execution_count": 357,
   "metadata": {},
   "outputs": [],
   "source": [
    "positive_words = open(\"positive-words.txt\", \"r\", encoding='latin1').read().split()\n",
    "negative_words = open(\"negative-words.txt\", \"r\", encoding='latin1').read().split()"
   ]
  },
  {
   "cell_type": "markdown",
   "metadata": {},
   "source": [
    "# Semantic Orientation"
   ]
  },
  {
   "cell_type": "code",
   "execution_count": 359,
   "metadata": {},
   "outputs": [],
   "source": [
    "def get_association(word):\n",
    "    if (word not in word_freq):\n",
    "        # print(\"That word has never been used in this set of tweets! Try another.\")\n",
    "        return 0\n",
    "    else:\n",
    "        return (sum(pmi[word][x] for x in positive_words) - sum(pmi[word][x] for x in negative_words)) / word_freq[word]"
   ]
  },
  {
   "cell_type": "code",
   "execution_count": 392,
   "metadata": {},
   "outputs": [],
   "source": [
    "#training data set\n",
    "pos_words = {}\n",
    "neg_words = {}\n",
    "for j in range(1876):\n",
    "    for i in df_clean[\"tokens\"][j]:\n",
    "        value = get_association(i)\n",
    "        if value > 0:\n",
    "            pos_words.setdefault(i, []).append(value)\n",
    "        elif value < 0:\n",
    "            neg_words.setdefault(i, []).append(value)\n",
    "   # print(j, end = ' ')"
   ]
  },
  {
   "cell_type": "markdown",
   "metadata": {},
   "source": [
    "# Accuracy on a training data set"
   ]
  },
  {
   "cell_type": "code",
   "execution_count": 361,
   "metadata": {},
   "outputs": [
    {
     "name": "stdout",
     "output_type": "stream",
     "text": [
      "0.6149333333333333\n"
     ]
    }
   ],
   "source": [
    "cnt=0; \n",
    "total = 0;\n",
    "for j in range(len(df_clean)):\n",
    "    if(len(df_clean[\"tokens\"][j]) == 0):\n",
    "        continue;\n",
    "    score = 0\n",
    "    total+=1\n",
    "    for i in df_clean[\"tokens\"][j]:\n",
    "        temp = get_association(i)\n",
    "        score += temp\n",
    "        # print(temp, len(test_data[\"ntweet\"][j]), i)\n",
    "       \n",
    "    score = score / len(df_clean[\"tokens\"][j])\n",
    "    if(df_clean['sent'][j]==0 and score<0):  cnt+=1\n",
    "    elif(df_clean['sent'][j]==4 and score>=0): cnt+=1\n",
    "    \n",
    "    # if score >= 0:\n",
    "    #     print(\"positive\", score, df_clean['sent'][j], cnt/(total), j)\n",
    "    # else: print(\"negative\", score,df_clean['sent'][j], cnt/(total),j)\n",
    "print(cnt/(total))"
   ]
  },
  {
   "cell_type": "code",
   "execution_count": 396,
   "metadata": {},
   "outputs": [],
   "source": [
    "#pos, neg from main data set 2010-2022\n",
    "pos_wordsV = {}\n",
    "neg_wordsV = {}\n",
    "for j in range(len(vegan)):\n",
    "    for i in vegan[\"tokens\"][j]:\n",
    "        value = get_association(i)\n",
    "        if value > 0:\n",
    "            pos_wordsV.setdefault(i, []).append(value)\n",
    "        elif value < 0:\n",
    "            neg_wordsV.setdefault(i, []).append(value)"
   ]
  },
  {
   "cell_type": "code",
   "execution_count": 148,
   "metadata": {},
   "outputs": [],
   "source": [
    "import io\n",
    "import json\n",
    "import unicodedata\n",
    "import sys\n",
    "import operator\n",
    "import string\n",
    "import math\n",
    "import re\n",
    "import time\n",
    "from collections import defaultdict\n",
    "from collections import Counter\n",
    "import pandas as pd\n"
   ]
  },
  {
   "cell_type": "markdown",
   "metadata": {},
   "source": [
    "# 2010-2022 popular tweets analysis"
   ]
  },
  {
   "cell_type": "code",
   "execution_count": 119,
   "metadata": {},
   "outputs": [
    {
     "data": {
      "text/html": [
       "<div>\n",
       "<style scoped>\n",
       "    .dataframe tbody tr th:only-of-type {\n",
       "        vertical-align: middle;\n",
       "    }\n",
       "\n",
       "    .dataframe tbody tr th {\n",
       "        vertical-align: top;\n",
       "    }\n",
       "\n",
       "    .dataframe thead th {\n",
       "        text-align: right;\n",
       "    }\n",
       "</style>\n",
       "<table border=\"1\" class=\"dataframe\">\n",
       "  <thead>\n",
       "    <tr style=\"text-align: right;\">\n",
       "      <th></th>\n",
       "      <th>Tweet Id</th>\n",
       "      <th>replyCount</th>\n",
       "      <th>retweetCount</th>\n",
       "      <th>likeCount</th>\n",
       "      <th>quoteCount</th>\n",
       "    </tr>\n",
       "  </thead>\n",
       "  <tbody>\n",
       "    <tr>\n",
       "      <th>count</th>\n",
       "      <td>1.136770e+05</td>\n",
       "      <td>113677.000000</td>\n",
       "      <td>113677.000000</td>\n",
       "      <td>113677.000000</td>\n",
       "      <td>113677.000000</td>\n",
       "    </tr>\n",
       "    <tr>\n",
       "      <th>mean</th>\n",
       "      <td>7.396452e+17</td>\n",
       "      <td>0.328853</td>\n",
       "      <td>0.528603</td>\n",
       "      <td>3.144655</td>\n",
       "      <td>0.048154</td>\n",
       "    </tr>\n",
       "    <tr>\n",
       "      <th>std</th>\n",
       "      <td>4.674333e+17</td>\n",
       "      <td>3.921993</td>\n",
       "      <td>23.023366</td>\n",
       "      <td>344.353841</td>\n",
       "      <td>4.196721</td>\n",
       "    </tr>\n",
       "    <tr>\n",
       "      <th>min</th>\n",
       "      <td>7.313936e+09</td>\n",
       "      <td>0.000000</td>\n",
       "      <td>0.000000</td>\n",
       "      <td>0.000000</td>\n",
       "      <td>0.000000</td>\n",
       "    </tr>\n",
       "    <tr>\n",
       "      <th>25%</th>\n",
       "      <td>3.290187e+17</td>\n",
       "      <td>0.000000</td>\n",
       "      <td>0.000000</td>\n",
       "      <td>0.000000</td>\n",
       "      <td>0.000000</td>\n",
       "    </tr>\n",
       "    <tr>\n",
       "      <th>50%</th>\n",
       "      <td>7.483031e+17</td>\n",
       "      <td>0.000000</td>\n",
       "      <td>0.000000</td>\n",
       "      <td>0.000000</td>\n",
       "      <td>0.000000</td>\n",
       "    </tr>\n",
       "    <tr>\n",
       "      <th>75%</th>\n",
       "      <td>1.145107e+18</td>\n",
       "      <td>0.000000</td>\n",
       "      <td>0.000000</td>\n",
       "      <td>1.000000</td>\n",
       "      <td>0.000000</td>\n",
       "    </tr>\n",
       "    <tr>\n",
       "      <th>max</th>\n",
       "      <td>1.527700e+18</td>\n",
       "      <td>1119.000000</td>\n",
       "      <td>7492.000000</td>\n",
       "      <td>115499.000000</td>\n",
       "      <td>1398.000000</td>\n",
       "    </tr>\n",
       "  </tbody>\n",
       "</table>\n",
       "</div>"
      ],
      "text/plain": [
       "           Tweet Id     replyCount   retweetCount      likeCount  \\\n",
       "count  1.136770e+05  113677.000000  113677.000000  113677.000000   \n",
       "mean   7.396452e+17       0.328853       0.528603       3.144655   \n",
       "std    4.674333e+17       3.921993      23.023366     344.353841   \n",
       "min    7.313936e+09       0.000000       0.000000       0.000000   \n",
       "25%    3.290187e+17       0.000000       0.000000       0.000000   \n",
       "50%    7.483031e+17       0.000000       0.000000       0.000000   \n",
       "75%    1.145107e+18       0.000000       0.000000       1.000000   \n",
       "max    1.527700e+18    1119.000000    7492.000000  115499.000000   \n",
       "\n",
       "          quoteCount  \n",
       "count  113677.000000  \n",
       "mean        0.048154  \n",
       "std         4.196721  \n",
       "min         0.000000  \n",
       "25%         0.000000  \n",
       "50%         0.000000  \n",
       "75%         0.000000  \n",
       "max      1398.000000  "
      ]
     },
     "execution_count": 119,
     "metadata": {},
     "output_type": "execute_result"
    }
   ],
   "source": [
    "data2 = pd.read_pickle(\"vegan_tweets2010-2022_monthly.pkl\")\n",
    "data2.describe()"
   ]
  },
  {
   "cell_type": "code",
   "execution_count": 120,
   "metadata": {},
   "outputs": [],
   "source": [
    "data2[\"year\"] = data2[\"Datetime\"].apply(lambda x: x.year)"
   ]
  },
  {
   "cell_type": "code",
   "execution_count": 121,
   "metadata": {},
   "outputs": [
    {
     "data": {
      "text/html": [
       "<div>\n",
       "<style scoped>\n",
       "    .dataframe tbody tr th:only-of-type {\n",
       "        vertical-align: middle;\n",
       "    }\n",
       "\n",
       "    .dataframe tbody tr th {\n",
       "        vertical-align: top;\n",
       "    }\n",
       "\n",
       "    .dataframe thead th {\n",
       "        text-align: right;\n",
       "    }\n",
       "</style>\n",
       "<table border=\"1\" class=\"dataframe\">\n",
       "  <thead>\n",
       "    <tr style=\"text-align: right;\">\n",
       "      <th></th>\n",
       "      <th>Datetime</th>\n",
       "      <th>Tweet Id</th>\n",
       "      <th>Text</th>\n",
       "      <th>Username</th>\n",
       "      <th>Query</th>\n",
       "      <th>replyCount</th>\n",
       "      <th>retweetCount</th>\n",
       "      <th>likeCount</th>\n",
       "      <th>quoteCount</th>\n",
       "      <th>lang</th>\n",
       "      <th>source</th>\n",
       "      <th>retweetedTweet</th>\n",
       "      <th>quotedTweet</th>\n",
       "      <th>mentionedUsers</th>\n",
       "      <th>year</th>\n",
       "    </tr>\n",
       "  </thead>\n",
       "  <tbody>\n",
       "    <tr>\n",
       "      <th>0</th>\n",
       "      <td>2010-01-30 23:59:47+00:00</td>\n",
       "      <td>8430272628</td>\n",
       "      <td>Well help me understand how that relates to b...</td>\n",
       "      <td>IQXS</td>\n",
       "      <td>vegan</td>\n",
       "      <td>0</td>\n",
       "      <td>0</td>\n",
       "      <td>0</td>\n",
       "      <td>0</td>\n",
       "      <td>en</td>\n",
       "      <td>&lt;a href=\"http://twitter.com\" rel=\"nofollow\"&gt;Tw...</td>\n",
       "      <td>None</td>\n",
       "      <td>None</td>\n",
       "      <td>[https://twitter.com/Twinz2]</td>\n",
       "      <td>2010</td>\n",
       "    </tr>\n",
       "    <tr>\n",
       "      <th>1</th>\n",
       "      <td>2010-01-30 23:58:21+00:00</td>\n",
       "      <td>8430226196</td>\n",
       "      <td>okay, maybe i'm not making vegan alfredo saude...</td>\n",
       "      <td>desdemona</td>\n",
       "      <td>vegan</td>\n",
       "      <td>0</td>\n",
       "      <td>0</td>\n",
       "      <td>0</td>\n",
       "      <td>0</td>\n",
       "      <td>en</td>\n",
       "      <td>&lt;a href=\"http://twitter.com\" rel=\"nofollow\"&gt;Tw...</td>\n",
       "      <td>None</td>\n",
       "      <td>None</td>\n",
       "      <td>None</td>\n",
       "      <td>2010</td>\n",
       "    </tr>\n",
       "    <tr>\n",
       "      <th>2</th>\n",
       "      <td>2010-01-30 23:57:14+00:00</td>\n",
       "      <td>8430191199</td>\n",
       "      <td>Via  no oil #vegan pesto ~ easy-shmeasy http:/...</td>\n",
       "      <td>itsallgood3sm</td>\n",
       "      <td>vegan</td>\n",
       "      <td>0</td>\n",
       "      <td>0</td>\n",
       "      <td>0</td>\n",
       "      <td>0</td>\n",
       "      <td>en</td>\n",
       "      <td>&lt;a href=\"http://www.cloudhopper.com/\" rel=\"nof...</td>\n",
       "      <td>None</td>\n",
       "      <td>None</td>\n",
       "      <td>[https://twitter.com/feelgoodguru]</td>\n",
       "      <td>2010</td>\n",
       "    </tr>\n",
       "    <tr>\n",
       "      <th>3</th>\n",
       "      <td>2010-01-30 23:56:25+00:00</td>\n",
       "      <td>8430165062</td>\n",
       "      <td>Just had a delicious vegan meal @ Jean's Kitch...</td>\n",
       "      <td>RachelLagroix</td>\n",
       "      <td>vegan</td>\n",
       "      <td>0</td>\n",
       "      <td>0</td>\n",
       "      <td>0</td>\n",
       "      <td>0</td>\n",
       "      <td>en</td>\n",
       "      <td>&lt;a href=\"http://twitter.com\" rel=\"nofollow\"&gt;Tw...</td>\n",
       "      <td>None</td>\n",
       "      <td>None</td>\n",
       "      <td>None</td>\n",
       "      <td>2010</td>\n",
       "    </tr>\n",
       "    <tr>\n",
       "      <th>4</th>\n",
       "      <td>2010-01-30 23:56:19+00:00</td>\n",
       "      <td>8430161604</td>\n",
       "      <td>says: I like how this BBQ sauce is vegan. Wha...</td>\n",
       "      <td>annesmash</td>\n",
       "      <td>vegan</td>\n",
       "      <td>0</td>\n",
       "      <td>0</td>\n",
       "      <td>0</td>\n",
       "      <td>0</td>\n",
       "      <td>en</td>\n",
       "      <td>&lt;a href=\"http://twitter.com\" rel=\"nofollow\"&gt;Tw...</td>\n",
       "      <td>None</td>\n",
       "      <td>None</td>\n",
       "      <td>[https://twitter.com/secretKGB]</td>\n",
       "      <td>2010</td>\n",
       "    </tr>\n",
       "  </tbody>\n",
       "</table>\n",
       "</div>"
      ],
      "text/plain": [
       "                   Datetime    Tweet Id  \\\n",
       "0 2010-01-30 23:59:47+00:00  8430272628   \n",
       "1 2010-01-30 23:58:21+00:00  8430226196   \n",
       "2 2010-01-30 23:57:14+00:00  8430191199   \n",
       "3 2010-01-30 23:56:25+00:00  8430165062   \n",
       "4 2010-01-30 23:56:19+00:00  8430161604   \n",
       "\n",
       "                                                Text       Username  Query  \\\n",
       "0   Well help me understand how that relates to b...           IQXS  vegan   \n",
       "1  okay, maybe i'm not making vegan alfredo saude...      desdemona  vegan   \n",
       "2  Via  no oil #vegan pesto ~ easy-shmeasy http:/...  itsallgood3sm  vegan   \n",
       "3  Just had a delicious vegan meal @ Jean's Kitch...  RachelLagroix  vegan   \n",
       "4   says: I like how this BBQ sauce is vegan. Wha...      annesmash  vegan   \n",
       "\n",
       "   replyCount  retweetCount  likeCount  quoteCount lang  \\\n",
       "0           0             0          0           0   en   \n",
       "1           0             0          0           0   en   \n",
       "2           0             0          0           0   en   \n",
       "3           0             0          0           0   en   \n",
       "4           0             0          0           0   en   \n",
       "\n",
       "                                              source retweetedTweet  \\\n",
       "0  <a href=\"http://twitter.com\" rel=\"nofollow\">Tw...           None   \n",
       "1  <a href=\"http://twitter.com\" rel=\"nofollow\">Tw...           None   \n",
       "2  <a href=\"http://www.cloudhopper.com/\" rel=\"nof...           None   \n",
       "3  <a href=\"http://twitter.com\" rel=\"nofollow\">Tw...           None   \n",
       "4  <a href=\"http://twitter.com\" rel=\"nofollow\">Tw...           None   \n",
       "\n",
       "  quotedTweet                      mentionedUsers  year  \n",
       "0        None        [https://twitter.com/Twinz2]  2010  \n",
       "1        None                                None  2010  \n",
       "2        None  [https://twitter.com/feelgoodguru]  2010  \n",
       "3        None                                None  2010  \n",
       "4        None     [https://twitter.com/secretKGB]  2010  "
      ]
     },
     "execution_count": 121,
     "metadata": {},
     "output_type": "execute_result"
    }
   ],
   "source": [
    "data2['Text'] = [re.sub('@[^\\s]+', '', x) for x in data2['Text']]\n",
    "data2.head()"
   ]
  },
  {
   "cell_type": "code",
   "execution_count": 122,
   "metadata": {},
   "outputs": [],
   "source": [
    "vegan = data2\n",
    "from nltk.tokenize import RegexpTokenizer\n",
    "\n",
    "tokenizer = RegexpTokenizer(r'\\w+')\n",
    "vegan['clean'] = vegan['Text'].astype('str') \n",
    "vegan.dtypes\n",
    "\n",
    "vegan[\"tokens\"] = vegan[\"Text\"].apply(tokenizer.tokenize)"
   ]
  },
  {
   "cell_type": "code",
   "execution_count": 123,
   "metadata": {},
   "outputs": [
    {
     "data": {
      "text/plain": [
       "0         [Well, help, me, understand, how, that, relate...\n",
       "1         [okay, maybe, i, m, not, making, vegan, alfred...\n",
       "2         [Via, no, oil, vegan, pesto, easy, shmeasy, ht...\n",
       "3         [Just, had, a, delicious, vegan, meal, Jean, s...\n",
       "4         [says, I, like, how, this, BBQ, sauce, is, veg...\n",
       "                                ...                        \n",
       "113672                                              [༥, ｽﾔ]\n",
       "113673                                     [ついうっかり, お疲れ様です]\n",
       "113674                                         [お前誰だよ, キモい]\n",
       "113675    [Wie, werden, die, aus, Tofu, hergestellt, Gem...\n",
       "113676    [My, sister, will, have, her, battered, tofu, ...\n",
       "Name: tokens, Length: 113677, dtype: object"
      ]
     },
     "execution_count": 123,
     "metadata": {},
     "output_type": "execute_result"
    }
   ],
   "source": [
    "vegan['tokens']"
   ]
  },
  {
   "cell_type": "code",
   "execution_count": 124,
   "metadata": {},
   "outputs": [],
   "source": [
    "for i in range(len(vegan)):\n",
    "    for j in range(len(vegan['tokens'][i])):\n",
    "        vegan['tokens'][i][j] = vegan['tokens'][i][j].lower()\n",
    "        if vegan['tokens'][i][j] in slang:\n",
    "            vegan['tokens'][i][j] = slang[vegan['tokens'][i][j]]"
   ]
  },
  {
   "cell_type": "code",
   "execution_count": 125,
   "metadata": {},
   "outputs": [],
   "source": [
    "for i in vegan[\"tokens\"]:\n",
    "    for j in list(i):\n",
    "        if j in stop_words or len(j)<=2 or re.search(r'\\d', j):\n",
    "            i.remove(j)"
   ]
  },
  {
   "cell_type": "code",
   "execution_count": 126,
   "metadata": {},
   "outputs": [
    {
     "data": {
      "text/plain": [
       "0    [well, help, understand, relates, vegan, serious]\n",
       "1    [okay, maybe, making, vegan, alfredo, saude, n...\n",
       "2    [oil, vegan, pesto, easy, shmeasy, http, feelg...\n",
       "3    [delicious, vegan, meal, jean, kitchen, danforth]\n",
       "4    [says, like, bbq, sauce, vegan, going, bbq, fr...\n",
       "Name: tokens, dtype: object"
      ]
     },
     "execution_count": 126,
     "metadata": {},
     "output_type": "execute_result"
    }
   ],
   "source": [
    "vegan[\"tokens\"].head()"
   ]
  },
  {
   "cell_type": "markdown",
   "metadata": {},
   "source": [
    "# Sentiment Analysis of popular tweets"
   ]
  },
  {
   "cell_type": "code",
   "execution_count": 398,
   "metadata": {},
   "outputs": [
    {
     "name": "stdout",
     "output_type": "stream",
     "text": [
      "POSITIVE 2010     0.4830917874396135           200.0\n",
      "NEGATIVE 2010     0.34299516908212563           142.0\n",
      "NEUTRAL 2010     0.17391304347826086           72.0\n",
      "414\n",
      "POSITIVE 2011     0.4833948339483395           262.0\n",
      "NEGATIVE 2011     0.3007380073800738           163.0\n",
      "NEUTRAL 2011     0.2158671586715867           117.0\n",
      "542\n",
      "POSITIVE 2012     0.43221476510067114           322.0\n",
      "NEGATIVE 2012     0.3167785234899329           236.0\n",
      "NEUTRAL 2012     0.25100671140939596           187.0\n",
      "745\n",
      "POSITIVE 2013     0.4778856526429342           443.0\n",
      "NEGATIVE 2013     0.313915857605178           291.0\n",
      "NEUTRAL 2013     0.20819848975188782           193.0\n",
      "927\n",
      "POSITIVE 2014     0.3960474308300395           501.0\n",
      "NEGATIVE 2014     0.30355731225296445           384.0\n",
      "NEUTRAL 2014     0.30039525691699603           380.0\n",
      "1265\n",
      "POSITIVE 2015     0.42025518341307816           527.0\n",
      "NEGATIVE 2015     0.2902711323763955           364.0\n",
      "NEUTRAL 2015     0.2894736842105263           363.0\n",
      "1254\n",
      "POSITIVE 2016     0.4641589779985806           654.0\n",
      "NEGATIVE 2016     0.26969481902058196           380.0\n",
      "NEUTRAL 2016     0.26614620298083747           375.0\n",
      "1409\n",
      "POSITIVE 2017     0.4659985683607731           651.0\n",
      "NEGATIVE 2017     0.2949176807444524           412.0\n",
      "NEUTRAL 2017     0.23908375089477452           334.0\n",
      "1397\n",
      "POSITIVE 2018     0.4677804295942721           588.0\n",
      "NEGATIVE 2018     0.2911694510739857           366.0\n",
      "NEUTRAL 2018     0.24105011933174225           303.0\n",
      "1257\n",
      "POSITIVE 2019     0.457000710732054           643.0\n",
      "NEGATIVE 2019     0.3191186922530206           449.0\n",
      "NEUTRAL 2019     0.22388059701492538           315.0\n",
      "1407\n",
      "POSITIVE 2020     0.45570630486831604           571.0\n",
      "NEGATIVE 2020     0.3120510774142059           391.0\n",
      "NEUTRAL 2020     0.23224261771747806           291.0\n",
      "1253\n",
      "POSITIVE 2021     0.5012224938875306           615.0\n",
      "NEGATIVE 2021     0.31703341483292585           389.0\n",
      "NEUTRAL 2021     0.1817440912795436           223.0\n",
      "1227\n",
      "POSITIVE 2022 0.453125 203.0\n",
      "NEGATIVE 2022 0.29464285714285715 132.0\n",
      "NEUTRAL 2022     0.25223214285714285           113.0\n",
      "448\n"
     ]
    }
   ],
   "source": [
    "cnt=0;\n",
    "pos = 0.0\n",
    "neg =0.0\n",
    "nt = 0.0\n",
    "ye = 2010;\n",
    "\n",
    "for j in range(len(vegan)):\n",
    "    #ignore tweets with no retweets\n",
    "    if vegan['retweetCount'][j] < 1: continue \n",
    "    if ye != vegan['year'][j]:\n",
    "        if cnt != 0:\n",
    "            print(\"POSITIVE \"+ str(ye) + \"     \" + str(pos/cnt) + '           ' + str(pos))\n",
    "            print(\"NEGATIVE \"+ str(ye) + \"     \" + str(neg/cnt) + '           ' + str(neg))\n",
    "            print(\"NEUTRAL \"+ str(ye) + \"     \" + str(nt/cnt) + '           ' + str(nt))\n",
    "            print(cnt)\n",
    "        cnt = 0\n",
    "        pos = 0.0\n",
    "        neg = 0.0\n",
    "        nt = 0.0\n",
    "        ye +=1\n",
    "    score = 0\n",
    "    for i in vegan[\"tokens\"][j]:\n",
    "        temp = get_association(i)\n",
    "        score += temp\n",
    "    if len(vegan[\"tokens\"][j]) == 0:\n",
    "        continue;\n",
    "    score = score / len(vegan[\"tokens\"][j])\n",
    "    cnt +=1\n",
    "    if(score >=-0.1 and score <=0.1): \n",
    "        nt +=1\n",
    "       \n",
    "    elif score >= 0:\n",
    "        pos +=1\n",
    "        \n",
    "    else: \n",
    "        neg+=1\n",
    "        \n",
    "    #print(str(score) + ' ' +str(vegan['Text'][j]))\n",
    "   \n",
    "    #for diffusion\n",
    "    if (vegan['retweetCount'][j] >=200):\n",
    "        #print(str(score) + '  retweet' +str(vegan['retweetCount'][j]))\n",
    "        # print(str(score) + ' ' +str(vegan['Text'][j]))\n",
    "        x = np.append(x, score)\n",
    "        y = np.append(y,vegan['retweetCount'][j] )\n",
    "        \n",
    "print(\"POSITIVE \"+ str(ye) + \" \" + str(pos/cnt) + \" \" +str(pos))       \n",
    "print(\"NEGATIVE \"+ str(ye) + \" \" + str(neg/cnt) +\" \"+ str(neg))\n",
    "print(\"NEUTRAL \"+ str(ye) + \"     \" + str(nt/cnt) + '           ' + str(nt))\n",
    "print(cnt)\n"
   ]
  },
  {
   "cell_type": "markdown",
   "metadata": {},
   "source": [
    "# Diffusion Hypothesis test"
   ]
  },
  {
   "cell_type": "code",
   "execution_count": 391,
   "metadata": {},
   "outputs": [
    {
     "data": {
      "image/png": "[encoded data removed]",
      "text/plain": [
       "<Figure size 432x288 with 1 Axes>"
      ]
     },
     "metadata": {
      "needs_background": "light"
     },
     "output_type": "display_data"
    }
   ],
   "source": [
    "# Here I sort x values and y values\n",
    "#here we count only tweets having more than 200 retweets \n",
    "args = np.argsort(x)\n",
    "x = x[args]\n",
    "y = y[args]\n",
    "\n",
    "plt.scatter(x, y) \n",
    "\n",
    "fit = np.polyfit(x, y, deg=4) \n",
    "p = np.poly1d(fit) \n",
    "plt.plot(x,p(x),\"r--\") \n",
    "plt.xlabel(\"Sentiment value\")\n",
    "plt.ylabel(\"Number of tweets\")\n",
    "plt.show()"
   ]
  },
  {
   "cell_type": "code",
   "execution_count": 389,
   "metadata": {},
   "outputs": [],
   "source": [
    "import matplotlib.pyplot as plt \n",
    "import numpy as np\n",
    "x=np.array([])\n",
    "y = np.array([])"
   ]
  }
 ],
 "metadata": {
  "kernelspec": {
   "display_name": "Python 3 (ipykernel)",
   "language": "python",
   "name": "python3"
  },
  "language_info": {
   "codemirror_mode": {
    "name": "ipython",
    "version": 3
   },
   "file_extension": ".py",
   "mimetype": "text/x-python",
   "name": "python",
   "nbconvert_exporter": "python",
   "pygments_lexer": "ipython3",
   "version": "3.9.12"
  }
 },
 "nbformat": 4,
 "nbformat_minor": 4
}
